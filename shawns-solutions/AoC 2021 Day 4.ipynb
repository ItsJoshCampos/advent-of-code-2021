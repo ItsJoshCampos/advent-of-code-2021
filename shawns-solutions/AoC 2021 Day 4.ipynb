{
 "cells": [
  {
   "cell_type": "code",
   "execution_count": 1,
   "metadata": {},
   "outputs": [],
   "source": [
    "# pip install advent-of-code-data\n",
    "from aocd.models import Puzzle"
   ]
  },
  {
   "cell_type": "code",
   "execution_count": 2,
   "metadata": {},
   "outputs": [
    {
     "name": "stdout",
     "output_type": "stream",
     "text": [
      "env: AOC_SESSION=53616c7465645f5f4ff17f2821cf0c44fe5f6017dd7b6e3a41a89b06d6abd32d765a897e39270e23ae10fa5fcea8e8a0\n"
     ]
    }
   ],
   "source": [
    "# You need to set your session ID in either an environment variable or file\n",
    "# before you can download your personalized data with advent-of-code-data\n",
    "# HELPFUL LINK: https://realpython.com/python-advent-of-code/\n",
    "\n",
    "%env AOC_SESSION=53616c7465645f5f4ff17f2821cf0c44fe5f6017dd7b6e3a41a89b06d6abd32d765a897e39270e23ae10fa5fcea8e8a0"
   ]
  },
  {
   "cell_type": "code",
   "execution_count": 3,
   "metadata": {},
   "outputs": [
    {
     "data": {
      "text/plain": [
       "'17,11,37,7,89,48,99,28,56,55,57,27,83,59,53,72,6,87,33,82,13,23,35,40,71,47,78,2,39,4,51,1,67,31,79,69,15,73,80,22,92,95,91,43,26,97,36,34,12,96,86,52,66,94,61,76,64,77,85,98,42,68,84,63,60,30,65,19,54,58,24,20,25,75,93,16,18,44,14,88,45,10,9,3,70,74,81,90,46,38,21,49,29,50,0,5,8,32,62,41\\n\\n57 80 91 40 12\\n62 36 72  0 20\\n55 60 25 92 96\\n14  2 17 18 86\\n 1  4 90 66 38\\n\\n 1 25 81 16 24\\n33 40 86 28 96\\n 4 '"
      ]
     },
     "execution_count": 3,
     "metadata": {},
     "output_type": "execute_result"
    }
   ],
   "source": [
    "# get personalized input data\n",
    "puzzle = Puzzle(year=2021, day=4)\n",
    "puzzle.input_data[:400]"
   ]
  },
  {
   "cell_type": "code",
   "execution_count": 4,
   "metadata": {},
   "outputs": [
    {
     "data": {
      "text/plain": [
       "['57 80 91 40 12',\n",
       " '62 36 72  0 20',\n",
       " '55 60 25 92 96',\n",
       " '14  2 17 18 86',\n",
       " ' 1  4 90 66 38',\n",
       " '',\n",
       " ' 1 25 81 16 24',\n",
       " '33 40 86 28 96',\n",
       " ' 4 97 90 32 13',\n",
       " '50 38 35 14 56',\n",
       " '73 42  9 36 67',\n",
       " '']"
      ]
     },
     "execution_count": 4,
     "metadata": {},
     "output_type": "execute_result"
    }
   ],
   "source": [
    "called_nums_raw = [ele for ele in puzzle.input_data.split('\\n')][0]\n",
    "called_nums = [int(i) for i in called_nums_raw.split(',')]\n",
    "boards_raw = [ele for ele in puzzle.input_data.split('\\n')][2:]\n",
    "boards_raw[:12]"
   ]
  },
  {
   "cell_type": "code",
   "execution_count": 5,
   "metadata": {},
   "outputs": [
    {
     "data": {
      "text/plain": [
       "[[[57, 80, 91, 40, 12],\n",
       "  [62, 36, 72, 0, 20],\n",
       "  [55, 60, 25, 92, 96],\n",
       "  [14, 2, 17, 18, 86],\n",
       "  [1, 4, 90, 66, 38]],\n",
       " [[1, 25, 81, 16, 24],\n",
       "  [33, 40, 86, 28, 96],\n",
       "  [4, 97, 90, 32, 13],\n",
       "  [50, 38, 35, 14, 56],\n",
       "  [73, 42, 9, 36, 67]]]"
      ]
     },
     "execution_count": 5,
     "metadata": {},
     "output_type": "execute_result"
    }
   ],
   "source": [
    "def parse_boards(boards_raw):\n",
    "    \n",
    "    all_boards = []\n",
    "    current_board = []\n",
    "    \n",
    "    for row in boards_raw:\n",
    "        if row == '':\n",
    "            all_boards.append(current_board)\n",
    "            current_board = []\n",
    "        else:\n",
    "            current_row = [int(row[0:2]), int(row[3:5]), int(row[6:8]), int(row[9:11]), int(row[12:14])]\n",
    "            current_board.append(current_row)\n",
    "            \n",
    "    return all_boards\n",
    "\n",
    "boards = parse_boards(boards_raw)\n",
    "boards[:2]"
   ]
  },
  {
   "cell_type": "code",
   "execution_count": 6,
   "metadata": {},
   "outputs": [
    {
     "data": {
      "text/plain": [
       "55770"
      ]
     },
     "execution_count": 6,
     "metadata": {},
     "output_type": "execute_result"
    }
   ],
   "source": [
    "def solution_day_4a(called_nums, boards):\n",
    "    \n",
    "    marked_boards = [[[0,0,0,0,0],[0,0,0,0,0],[0,0,0,0,0],[0,0,0,0,0],[0,0,0,0,0]] for i in range(len(boards))]\n",
    "\n",
    "    for called_num in called_nums:\n",
    "        for b_index, board in enumerate(boards):\n",
    "            for br_index, br in enumerate(board):\n",
    "                for bc_index, ele in enumerate(br):\n",
    "                    if called_num == ele:\n",
    "                        marked_boards[b_index][br_index][bc_index] = 1\n",
    "\n",
    "                        # check for winner\n",
    "                        row_winner = sum(marked_boards[b_index][br_index]) == 5\n",
    "                        col_winner = sum([marked_boards[b_index][i][bc_index] for i in range(5)]) == 5\n",
    "                        if row_winner or col_winner:\n",
    "                            \n",
    "                            summed_vals = 0\n",
    "                            \n",
    "                            for row_index, row in enumerate(marked_boards[b_index]):\n",
    "                                for col_index, ele in enumerate(row):\n",
    "                                    if ele == 0:\n",
    "                                        summed_vals += board[row_index][col_index]\n",
    "                            \n",
    "                            return summed_vals * called_num\n",
    "                        \n",
    "solution_day_4a(called_nums, boards)"
   ]
  },
  {
   "cell_type": "code",
   "execution_count": null,
   "metadata": {},
   "outputs": [],
   "source": []
  },
  {
   "cell_type": "code",
   "execution_count": null,
   "metadata": {},
   "outputs": [],
   "source": []
  },
  {
   "cell_type": "code",
   "execution_count": 7,
   "metadata": {},
   "outputs": [
    {
     "data": {
      "text/plain": [
       "2980"
      ]
     },
     "execution_count": 7,
     "metadata": {},
     "output_type": "execute_result"
    }
   ],
   "source": [
    "def solution_day_4b(called_nums, boards):\n",
    "    \n",
    "    marked_boards = [[[0,0,0,0,0],[0,0,0,0,0],[0,0,0,0,0],[0,0,0,0,0],[0,0,0,0,0]] for i in range(len(boards))]\n",
    "    \n",
    "    unwon_boards = list(range(len(boards)))\n",
    "\n",
    "    for called_num in called_nums:\n",
    "        for b_index, board in enumerate(boards):\n",
    "            for br_index, br in enumerate(board):\n",
    "                for bc_index, ele in enumerate(br):\n",
    "                    if called_num == ele:\n",
    "                        marked_boards[b_index][br_index][bc_index] = 1\n",
    "\n",
    "                        # check for winner\n",
    "                        row_winner = sum(marked_boards[b_index][br_index]) == 5\n",
    "                        col_winner = sum([marked_boards[b_index][i][bc_index] for i in range(5)]) == 5\n",
    "                        if row_winner or col_winner:\n",
    "                            \n",
    "                            # new for part b\n",
    "                            if len(unwon_boards) == 1 and unwon_boards[0]==b_index:\n",
    "                            \n",
    "                                summed_vals = 0\n",
    "\n",
    "                                for row_index, row in enumerate(marked_boards[b_index]):\n",
    "                                    for col_index, ele in enumerate(row):\n",
    "                                        if ele == 0:\n",
    "                                            summed_vals += board[row_index][col_index]\n",
    "\n",
    "                                return summed_vals * called_num\n",
    "                            else:\n",
    "                                unwon_boards = [i for i in unwon_boards if i != b_index]\n",
    "                        \n",
    "solution_day_4b(called_nums, boards)"
   ]
  },
  {
   "cell_type": "code",
   "execution_count": null,
   "metadata": {},
   "outputs": [],
   "source": []
  }
 ],
 "metadata": {
  "kernelspec": {
   "display_name": "Python 3",
   "language": "python",
   "name": "python3"
  },
  "language_info": {
   "codemirror_mode": {
    "name": "ipython",
    "version": 3
   },
   "file_extension": ".py",
   "mimetype": "text/x-python",
   "name": "python",
   "nbconvert_exporter": "python",
   "pygments_lexer": "ipython3",
   "version": "3.8.5"
  }
 },
 "nbformat": 4,
 "nbformat_minor": 4
}
