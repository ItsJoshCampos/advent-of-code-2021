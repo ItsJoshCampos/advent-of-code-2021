{
 "cells": [
  {
   "cell_type": "code",
   "execution_count": 1,
   "metadata": {},
   "outputs": [],
   "source": [
    "# pip install advent-of-code-data\n",
    "from aocd.models import Puzzle"
   ]
  },
  {
   "cell_type": "code",
   "execution_count": 2,
   "metadata": {},
   "outputs": [
    {
     "name": "stdout",
     "output_type": "stream",
     "text": [
      "env: AOC_SESSION=53616c7465645f5f4ff17f2821cf0c44fe5f6017dd7b6e3a41a89b06d6abd32d765a897e39270e23ae10fa5fcea8e8a0\n"
     ]
    }
   ],
   "source": [
    "# You need to set your session ID in either an environment variable or file\n",
    "# before you can download your personalized data with advent-of-code-data\n",
    "# HELPFUL LINK: https://realpython.com/python-advent-of-code/\n",
    "\n",
    "%env AOC_SESSION=53616c7465645f5f4ff17f2821cf0c44fe5f6017dd7b6e3a41a89b06d6abd32d765a897e39270e23ae10fa5fcea8e8a0"
   ]
  },
  {
   "cell_type": "code",
   "execution_count": 3,
   "metadata": {},
   "outputs": [
    {
     "data": {
      "text/plain": [
       "'eadbcf faceb faecgd gdefabc adc ad adbf gfacbe bceda dcegb | gdfcae adc cedbfa dafb\\ned acegbfd defb ead dbcfae dbeca caefdg bgecfa dabgc efacb | gfecab ed cdaegf de\\nfda dfbeg cegdab fa edfagcb acgde dagfe abcgdf ceaf dfecag | fgcead af caedgbf bdfeagc\\nfdae cebgfa df bdf ebcgdf bcdeafg cfbdae afebc fbadc cbgda | df cbgfae eadf bfd\\nfacgb gdefabc decbfa cb cba cgfaeb gafec bgfad agcefd bcge | cfdage '"
      ]
     },
     "execution_count": 3,
     "metadata": {},
     "output_type": "execute_result"
    }
   ],
   "source": [
    "# get personalized input data\n",
    "puzzle = Puzzle(year=2021, day=8)\n",
    "puzzle.input_data[:400]"
   ]
  },
  {
   "cell_type": "code",
   "execution_count": 4,
   "metadata": {},
   "outputs": [
    {
     "data": {
      "text/plain": [
       "['eadbcf faceb faecgd gdefabc adc ad adbf gfacbe bceda dcegb | gdfcae adc cedbfa dafb',\n",
       " 'ed acegbfd defb ead dbcfae dbeca caefdg bgecfa dabgc efacb | gfecab ed cdaegf de',\n",
       " 'fda dfbeg cegdab fa edfagcb acgde dagfe abcgdf ceaf dfecag | fgcead af caedgbf bdfeagc',\n",
       " 'fdae cebgfa df bdf ebcgdf bcdeafg cfbdae afebc fbadc cbgda | df cbgfae eadf bfd',\n",
       " 'facgb gdefabc decbfa cb cba cgfaeb gafec bgfad agcefd bcge | cfdage bc dbagfce gcbfae']"
      ]
     },
     "execution_count": 4,
     "metadata": {},
     "output_type": "execute_result"
    }
   ],
   "source": [
    "inp = [ele for ele in puzzle.input_data.split('\\n')]\n",
    "inp[:5]"
   ]
  },
  {
   "cell_type": "code",
   "execution_count": 5,
   "metadata": {},
   "outputs": [
    {
     "data": {
      "text/plain": [
       "539"
      ]
     },
     "execution_count": 5,
     "metadata": {},
     "output_type": "execute_result"
    }
   ],
   "source": [
    "def solution_day_8a(inp):\n",
    "    \n",
    "    counts = {0:0, 1:0, 2:0, 3:0, 4:0, 5:0, 6:0, 7:0, 8:0, 9:0}\n",
    "    \n",
    "    for ele in inp:\n",
    "        clues = ele.split(' | ')[0].split(' ')\n",
    "        output = ele.split(' | ')[1].split(' ')\n",
    "        \n",
    "        for digit in output:\n",
    "            if len(digit) == 2:\n",
    "                counts[1] += 1\n",
    "            elif len(digit) == 3:\n",
    "                counts[7] += 1\n",
    "            elif len(digit) == 7:\n",
    "                counts[8] += 1\n",
    "            elif len(digit) == 4:\n",
    "                counts[4] += 1\n",
    "    return sum([val for key, val in counts.items() if key in [1,7,8,4]])\n",
    "        \n",
    "        \n",
    "solution_day_8a(inp)       "
   ]
  },
  {
   "cell_type": "code",
   "execution_count": null,
   "metadata": {},
   "outputs": [],
   "source": []
  },
  {
   "cell_type": "code",
   "execution_count": null,
   "metadata": {},
   "outputs": [],
   "source": [
    " 0:      1:      2:      3:      4:\n",
    " aaaa    ....    aaaa    aaaa    ....\n",
    "b    c  .    c  .    c  .    c  b    c\n",
    "b    c  .    c  .    c  .    c  b    c\n",
    " ....    ....    dddd    dddd    dddd\n",
    "e    f  .    f  e    .  .    f  .    f\n",
    "e    f  .    f  e    .  .    f  .    f\n",
    " gggg    ....    gggg    gggg    ....\n",
    "\n",
    "  5:      6:      7:      8:      9:\n",
    " aaaa    aaaa    aaaa    aaaa    aaaa\n",
    "b    .  b    .  .    c  b    c  b    c\n",
    "b    .  b    .  .    c  b    c  b    c\n",
    " dddd    dddd    ....    dddd    dddd\n",
    ".    f  e    f  .    f  e    f  .    f\n",
    ".    f  e    f  .    f  e    f  .    f\n",
    " gggg    gggg    ....    gggg    gggg\n"
   ]
  },
  {
   "cell_type": "code",
   "execution_count": null,
   "metadata": {},
   "outputs": [],
   "source": [
    "1 = len() == 2  \n",
    "7 = len() == 3  \n",
    "8 = len() == 7  \n",
    "4 = len() == 4  \n",
    "6 = len() == 6 and does not contain both letters of 1  \n",
    "9 = len() == 6 and contains all the letters of 4  \n",
    "0 = len() == 6 and is not 6 or 9  \n",
    "3 = len() == 5 and contains all the letters of 1  \n",
    "5 = len(intersection with 6) == 5  \n",
    "2 = whats left over   "
   ]
  },
  {
   "cell_type": "code",
   "execution_count": 6,
   "metadata": {},
   "outputs": [
    {
     "data": {
      "text/plain": [
       "1084606"
      ]
     },
     "execution_count": 6,
     "metadata": {},
     "output_type": "execute_result"
    }
   ],
   "source": [
    "def solution_day_8b(inp):\n",
    "    \n",
    "    total = 0\n",
    "    \n",
    "    for ele in inp:\n",
    "        clues = ele.split(' | ')[0].split(' ')\n",
    "        output = ele.split(' | ')[1].split(' ')\n",
    "        \n",
    "        one = [set(clue) for clue in clues if len(clue) == 2][0]\n",
    "        seven = [set(clue) for clue in clues if len(clue) == 3][0]\n",
    "        four = [set(clue) for clue in clues if len(clue) == 4][0]\n",
    "        eight = [set(clue) for clue in clues if len(clue) == 7][0]\n",
    "        six = [set(clue) for clue in clues if len(clue) == 6 \n",
    "               and len(set(clue).intersection(one)) == 1][0]\n",
    "        nine = [set(clue) for clue in clues if len(clue) == 6 \n",
    "               and len(set(clue).intersection(four)) == 4][0]\n",
    "        zero = [set(clue) for clue in clues if len(clue) == 6 \n",
    "                and set(clue) != six and set(clue) != nine][0]\n",
    "        three = [set(clue) for clue in clues if len(clue) == 5\n",
    "                 and len(set(clue).intersection(one)) == 2][0]\n",
    "        five = [set(clue) for clue in clues if len(clue) == 5\n",
    "                and len(set(clue).intersection(six)) == 5][0]\n",
    "        two = [set(clue) for clue in clues if len(clue) == 5\n",
    "              and set(clue) not in [three, five]][0]\n",
    "        \n",
    "        digits = [zero, one, two, three, four, five, six, seven, eight, nine]\n",
    "        \n",
    "        mapping = {}\n",
    "        \n",
    "        for index, digit in enumerate(digits):\n",
    "            mapping[''.join(sorted(list(digit)))] = str(index)\n",
    "        \n",
    "        str_number = ''\n",
    "        \n",
    "        for digit in output:\n",
    "            str_number += mapping[''.join(sorted(digit))]\n",
    "        \n",
    "        total += int(str_number)\n",
    "        \n",
    "    return total\n",
    "        \n",
    "        \n",
    "solution_day_8b(inp)       "
   ]
  },
  {
   "cell_type": "code",
   "execution_count": null,
   "metadata": {},
   "outputs": [],
   "source": []
  },
  {
   "cell_type": "code",
   "execution_count": null,
   "metadata": {},
   "outputs": [],
   "source": []
  }
 ],
 "metadata": {
  "kernelspec": {
   "display_name": "Python 3",
   "language": "python",
   "name": "python3"
  },
  "language_info": {
   "codemirror_mode": {
    "name": "ipython",
    "version": 3
   },
   "file_extension": ".py",
   "mimetype": "text/x-python",
   "name": "python",
   "nbconvert_exporter": "python",
   "pygments_lexer": "ipython3",
   "version": "3.8.5"
  }
 },
 "nbformat": 4,
 "nbformat_minor": 4
}
