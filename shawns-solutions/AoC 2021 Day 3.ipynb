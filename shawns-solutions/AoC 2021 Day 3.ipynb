{
 "cells": [
  {
   "cell_type": "code",
   "execution_count": 1,
   "metadata": {},
   "outputs": [],
   "source": [
    "# pip install advent-of-code-data\n",
    "from aocd.models import Puzzle"
   ]
  },
  {
   "cell_type": "code",
   "execution_count": 2,
   "metadata": {},
   "outputs": [
    {
     "name": "stdout",
     "output_type": "stream",
     "text": [
      "env: AOC_SESSION=53616c7465645f5f4ff17f2821cf0c44fe5f6017dd7b6e3a41a89b06d6abd32d765a897e39270e23ae10fa5fcea8e8a0\n"
     ]
    }
   ],
   "source": [
    "# You need to set your session ID in either an environment variable or file\n",
    "# before you can download your personalized data with advent-of-code-data\n",
    "# HELPFUL LINK: https://realpython.com/python-advent-of-code/\n",
    "\n",
    "%env AOC_SESSION=53616c7465645f5f4ff17f2821cf0c44fe5f6017dd7b6e3a41a89b06d6abd32d765a897e39270e23ae10fa5fcea8e8a0"
   ]
  },
  {
   "cell_type": "code",
   "execution_count": 3,
   "metadata": {},
   "outputs": [
    {
     "data": {
      "text/plain": [
       "'111111010011\\n1100110'"
      ]
     },
     "execution_count": 3,
     "metadata": {},
     "output_type": "execute_result"
    }
   ],
   "source": [
    "# get personalized input data\n",
    "puzzle = Puzzle(year=2021, day=3)\n",
    "puzzle.input_data[:20]"
   ]
  },
  {
   "cell_type": "code",
   "execution_count": 4,
   "metadata": {},
   "outputs": [
    {
     "data": {
      "text/plain": [
       "['111111010011', '110011001100', '010011111000', '101001100011']"
      ]
     },
     "execution_count": 4,
     "metadata": {},
     "output_type": "execute_result"
    }
   ],
   "source": [
    "# create list of ints\n",
    "inp = [ele for ele in puzzle.input_data.split('\\n')]\n",
    "inp[:4]"
   ]
  },
  {
   "cell_type": "code",
   "execution_count": 5,
   "metadata": {},
   "outputs": [],
   "source": [
    "sample_inp = [\n",
    "'00100',\n",
    "'11110',\n",
    "'10110',\n",
    "'10111',\n",
    "'10101',\n",
    "'01111',\n",
    "'00111',\n",
    "'11100',\n",
    "'10000',\n",
    "'11001',\n",
    "'00010',\n",
    "'01010',\n",
    "]"
   ]
  },
  {
   "cell_type": "code",
   "execution_count": null,
   "metadata": {},
   "outputs": [],
   "source": []
  },
  {
   "cell_type": "code",
   "execution_count": 6,
   "metadata": {},
   "outputs": [
    {
     "data": {
      "text/plain": [
       "3985686"
      ]
     },
     "execution_count": 6,
     "metadata": {},
     "output_type": "execute_result"
    }
   ],
   "source": [
    "def solution_day_3a(inp):\n",
    "    \n",
    "    value_dict = {index: {'0': 0, '1': 0} for index in range(len(inp[0]))}\n",
    "    \n",
    "    for ele in inp:\n",
    "        for index, ele in enumerate(ele):\n",
    "            value_dict[index][ele] += 1\n",
    "                    \n",
    "    gamma = ''\n",
    "    epsilon = ''\n",
    "    \n",
    "    for index in range(len(inp[0])):\n",
    "        if value_dict[index]['0'] > value_dict[index]['1']:\n",
    "            gamma += '0'\n",
    "            epsilon += '1'\n",
    "        elif value_dict[index]['0'] < value_dict[index]['1']:\n",
    "            gamma += '1'\n",
    "            epsilon += '0'\n",
    "        \n",
    "    return int(gamma, 2) * int(epsilon, 2)\n",
    "\n",
    "solution_day_3a(inp)"
   ]
  },
  {
   "cell_type": "code",
   "execution_count": null,
   "metadata": {},
   "outputs": [],
   "source": []
  },
  {
   "cell_type": "code",
   "execution_count": 7,
   "metadata": {},
   "outputs": [
    {
     "data": {
      "text/plain": [
       "2555739"
      ]
     },
     "execution_count": 7,
     "metadata": {},
     "output_type": "execute_result"
    }
   ],
   "source": [
    "def solution_day_3b_o2(inp, index=0):\n",
    "    \n",
    "    if len(inp) == 1:\n",
    "        return int(inp[0], 2)\n",
    "    else:\n",
    "        value_dict = {'0': 0, '1': 0}\n",
    "        for ele in inp:\n",
    "            if ele[index] == '0':\n",
    "                value_dict['0'] += 1\n",
    "            else:\n",
    "                value_dict['1'] += 1\n",
    "                \n",
    "        if value_dict['0'] > value_dict['1']:\n",
    "            inp = [ele for ele in inp if ele[index] == '0']\n",
    "            return solution_day_3b_o2(inp, index+1)\n",
    "        else:\n",
    "            inp = [ele for ele in inp if ele[index] == '1']\n",
    "            return solution_day_3b_o2(inp, index+1)\n",
    "        \n",
    "def solution_day_3b_co2(inp, index=0):\n",
    "    \n",
    "    if len(inp) == 1:\n",
    "        return int(inp[0], 2)\n",
    "    else:\n",
    "        value_dict = {'0': 0, '1': 0}\n",
    "        for ele in inp:\n",
    "            if ele[index] == '0':\n",
    "                value_dict['0'] += 1\n",
    "            else:\n",
    "                value_dict['1'] += 1\n",
    "                \n",
    "        if value_dict['0'] > value_dict['1']:\n",
    "            inp = [ele for ele in inp if ele[index] == '1']\n",
    "            return solution_day_3b_co2(inp, index+1)\n",
    "        else:\n",
    "            inp = [ele for ele in inp if ele[index] == '0']\n",
    "            return solution_day_3b_co2(inp, index+1)\n",
    "        \n",
    "solution_day_3b_co2(inp) * solution_day_3b_o2(inp)"
   ]
  },
  {
   "cell_type": "code",
   "execution_count": null,
   "metadata": {},
   "outputs": [],
   "source": []
  },
  {
   "cell_type": "code",
   "execution_count": null,
   "metadata": {},
   "outputs": [],
   "source": []
  },
  {
   "cell_type": "code",
   "execution_count": 5,
   "metadata": {},
   "outputs": [
    {
     "ename": "UnboundLocalError",
     "evalue": "local variable 'count' referenced before assignment",
     "output_type": "error",
     "traceback": [
      "\u001b[0;31m---------------------------------------------------------------------------\u001b[0m",
      "\u001b[0;31mUnboundLocalError\u001b[0m                         Traceback (most recent call last)",
      "\u001b[0;32m<ipython-input-5-fb00cfc779d2>\u001b[0m in \u001b[0;36m<module>\u001b[0;34m\u001b[0m\n\u001b[1;32m      4\u001b[0m     \u001b[0mcount\u001b[0m \u001b[0;34m=\u001b[0m \u001b[0mcount\u001b[0m\u001b[0;34m+\u001b[0m\u001b[0;36m1\u001b[0m\u001b[0;34m\u001b[0m\u001b[0;34m\u001b[0m\u001b[0m\n\u001b[1;32m      5\u001b[0m \u001b[0;34m\u001b[0m\u001b[0m\n\u001b[0;32m----> 6\u001b[0;31m \u001b[0mupdate_count\u001b[0m\u001b[0;34m(\u001b[0m\u001b[0;34m)\u001b[0m\u001b[0;34m\u001b[0m\u001b[0;34m\u001b[0m\u001b[0m\n\u001b[0m",
      "\u001b[0;32m<ipython-input-5-fb00cfc779d2>\u001b[0m in \u001b[0;36mupdate_count\u001b[0;34m()\u001b[0m\n\u001b[1;32m      2\u001b[0m \u001b[0;34m\u001b[0m\u001b[0m\n\u001b[1;32m      3\u001b[0m \u001b[0;32mdef\u001b[0m \u001b[0mupdate_count\u001b[0m\u001b[0;34m(\u001b[0m\u001b[0;34m)\u001b[0m\u001b[0;34m:\u001b[0m\u001b[0;34m\u001b[0m\u001b[0;34m\u001b[0m\u001b[0m\n\u001b[0;32m----> 4\u001b[0;31m     \u001b[0mcount\u001b[0m \u001b[0;34m=\u001b[0m \u001b[0mcount\u001b[0m\u001b[0;34m+\u001b[0m\u001b[0;36m1\u001b[0m\u001b[0;34m\u001b[0m\u001b[0;34m\u001b[0m\u001b[0m\n\u001b[0m\u001b[1;32m      5\u001b[0m \u001b[0;34m\u001b[0m\u001b[0m\n\u001b[1;32m      6\u001b[0m \u001b[0mupdate_count\u001b[0m\u001b[0;34m(\u001b[0m\u001b[0;34m)\u001b[0m\u001b[0;34m\u001b[0m\u001b[0;34m\u001b[0m\u001b[0m\n",
      "\u001b[0;31mUnboundLocalError\u001b[0m: local variable 'count' referenced before assignment"
     ]
    }
   ],
   "source": [
    "count = 0\n",
    "\n",
    "def update_count():\n",
    "    count = count+1\n",
    "    \n",
    "update_count()"
   ]
  },
  {
   "cell_type": "code",
   "execution_count": null,
   "metadata": {},
   "outputs": [],
   "source": []
  }
 ],
 "metadata": {
  "kernelspec": {
   "display_name": "Python 3",
   "language": "python",
   "name": "python3"
  },
  "language_info": {
   "codemirror_mode": {
    "name": "ipython",
    "version": 3
   },
   "file_extension": ".py",
   "mimetype": "text/x-python",
   "name": "python",
   "nbconvert_exporter": "python",
   "pygments_lexer": "ipython3",
   "version": "3.8.5"
  }
 },
 "nbformat": 4,
 "nbformat_minor": 4
}
