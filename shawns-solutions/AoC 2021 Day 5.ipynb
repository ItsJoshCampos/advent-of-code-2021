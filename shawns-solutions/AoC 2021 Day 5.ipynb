{
 "cells": [
  {
   "cell_type": "code",
   "execution_count": 1,
   "metadata": {},
   "outputs": [],
   "source": [
    "# pip install advent-of-code-data\n",
    "from aocd.models import Puzzle"
   ]
  },
  {
   "cell_type": "code",
   "execution_count": 2,
   "metadata": {},
   "outputs": [
    {
     "name": "stdout",
     "output_type": "stream",
     "text": [
      "env: AOC_SESSION=53616c7465645f5f4ff17f2821cf0c44fe5f6017dd7b6e3a41a89b06d6abd32d765a897e39270e23ae10fa5fcea8e8a0\n"
     ]
    }
   ],
   "source": [
    "# You need to set your session ID in either an environment variable or file\n",
    "# before you can download your personalized data with advent-of-code-data\n",
    "# HELPFUL LINK: https://realpython.com/python-advent-of-code/\n",
    "\n",
    "%env AOC_SESSION=53616c7465645f5f4ff17f2821cf0c44fe5f6017dd7b6e3a41a89b06d6abd32d765a897e39270e23ae10fa5fcea8e8a0"
   ]
  },
  {
   "cell_type": "code",
   "execution_count": 3,
   "metadata": {},
   "outputs": [
    {
     "data": {
      "text/plain": [
       "'365,809 -> 365,271\\n899,814 -> 899,921\\n967,913 -> 434,913\\n971,362 -> 631,362\\n597,422 -> 597,575\\n722,82 -> 722,365\\n98,891 -> 972,17\\n361,534 -> 361,52\\n958,858 -> 958,612\\n261,683 -> 261,477\\n859,381 -> 850,372\\n773,305 -> 703,305\\n527,318 -> 281,72\\n29,119 -> 863,953\\n428,723 -> 428,971\\n582,787 -> 582,326\\n795,495 -> 795,525\\n920,548 -> 920,718\\n421,264 -> 714,557\\n635,310 -> 635,983\\n751,479 -> 534,696\\n121,768'"
      ]
     },
     "execution_count": 3,
     "metadata": {},
     "output_type": "execute_result"
    }
   ],
   "source": [
    "# get personalized input data\n",
    "puzzle = Puzzle(year=2021, day=5)\n",
    "puzzle.input_data[:400]"
   ]
  },
  {
   "cell_type": "code",
   "execution_count": 4,
   "metadata": {},
   "outputs": [],
   "source": [
    "inp = [ele for ele in puzzle.input_data.split('\\n')]"
   ]
  },
  {
   "cell_type": "code",
   "execution_count": 5,
   "metadata": {},
   "outputs": [
    {
     "data": {
      "text/plain": [
       "['365,809 -> 365,271',\n",
       " '899,814 -> 899,921',\n",
       " '967,913 -> 434,913',\n",
       " '971,362 -> 631,362',\n",
       " '597,422 -> 597,575']"
      ]
     },
     "execution_count": 5,
     "metadata": {},
     "output_type": "execute_result"
    }
   ],
   "source": [
    "inp[:5]"
   ]
  },
  {
   "cell_type": "code",
   "execution_count": 6,
   "metadata": {},
   "outputs": [
    {
     "data": {
      "text/plain": [
       "6710"
      ]
     },
     "execution_count": 6,
     "metadata": {},
     "output_type": "execute_result"
    }
   ],
   "source": [
    "def solution_day_5a(inp):\n",
    "    \n",
    "    coord_dict = {}\n",
    "    \n",
    "    segment_pairs = []\n",
    "    for ele in inp:\n",
    "        pairs = ele.split(' -> ')\n",
    "        x1 = int(pairs[0].split(',')[0])\n",
    "        y1 = int(pairs[0].split(',')[1])\n",
    "        x2 = int(pairs[1].split(',')[0])\n",
    "        y2 = int(pairs[1].split(',')[1])\n",
    "        \n",
    "        if x1 == x2:\n",
    "            min_y = min([y1, y2])\n",
    "            max_y = max([y1, y2])\n",
    "            for i in range(min_y, max_y+1):\n",
    "                if (x1, i) not in coord_dict:\n",
    "                    coord_dict[(x1, i)] = 1\n",
    "                else:\n",
    "                    coord_dict[(x1, i)] += 1\n",
    "        elif y1 == y2:\n",
    "            min_x = min([x1, x2])\n",
    "            max_x = max([x1, x2])\n",
    "            for i in range(min_x, max_x+1):\n",
    "                if (i, y1) not in coord_dict:\n",
    "                    coord_dict[(i, y1)] = 1\n",
    "                else:\n",
    "                    coord_dict[(i, y1)] += 1\n",
    "        \n",
    "    return len([key for key, val in coord_dict.items() if val > 1])\n",
    "    \n",
    "solution_day_5a(inp)"
   ]
  },
  {
   "cell_type": "code",
   "execution_count": null,
   "metadata": {},
   "outputs": [],
   "source": []
  },
  {
   "cell_type": "code",
   "execution_count": 7,
   "metadata": {},
   "outputs": [
    {
     "data": {
      "text/plain": [
       "20121"
      ]
     },
     "execution_count": 7,
     "metadata": {},
     "output_type": "execute_result"
    }
   ],
   "source": [
    "def solution_day_5a(inp):\n",
    "    \n",
    "    coord_dict = {}\n",
    "    \n",
    "    segment_pairs = []\n",
    "    for ele in inp:\n",
    "        pairs = ele.split(' -> ')\n",
    "        x1 = int(pairs[0].split(',')[0])\n",
    "        y1 = int(pairs[0].split(',')[1])\n",
    "        x2 = int(pairs[1].split(',')[0])\n",
    "        y2 = int(pairs[1].split(',')[1])\n",
    "        \n",
    "        if x1 == x2:\n",
    "            min_y = min([y1, y2])\n",
    "            max_y = max([y1, y2])\n",
    "            for i in range(min_y, max_y+1):\n",
    "                if (x1, i) not in coord_dict:\n",
    "                    coord_dict[(x1, i)] = 1\n",
    "                else:\n",
    "                    coord_dict[(x1, i)] += 1\n",
    "        elif y1 == y2:\n",
    "            min_x = min([x1, x2])\n",
    "            max_x = max([x1, x2])\n",
    "            for i in range(min_x, max_x+1):\n",
    "                if (i, y1) not in coord_dict:\n",
    "                    coord_dict[(i, y1)] = 1\n",
    "                else:\n",
    "                    coord_dict[(i, y1)] += 1\n",
    "                    \n",
    "        # for part b (diagonal lines)\n",
    "        else:\n",
    "            if x1 < x2:\n",
    "                xs = range(x1, x2+1)\n",
    "            else:\n",
    "                xs = range(x1, x2-1, -1)\n",
    "            if y1 < y2:\n",
    "                ys = range(y1, y2+1)\n",
    "            else:\n",
    "                ys = range(y1, y2-1, -1)\n",
    "            for i in range(len(xs)):\n",
    "                if (xs[i], ys[i]) not in coord_dict:\n",
    "                    coord_dict[(xs[i], ys[i])] = 1\n",
    "                else:\n",
    "                    coord_dict[(xs[i], ys[i])] += 1\n",
    "        \n",
    "    return len([key for key, val in coord_dict.items() if val > 1])\n",
    "    \n",
    "solution_day_5a(inp)"
   ]
  },
  {
   "cell_type": "code",
   "execution_count": null,
   "metadata": {},
   "outputs": [],
   "source": []
  }
 ],
 "metadata": {
  "kernelspec": {
   "display_name": "Python 3",
   "language": "python",
   "name": "python3"
  },
  "language_info": {
   "codemirror_mode": {
    "name": "ipython",
    "version": 3
   },
   "file_extension": ".py",
   "mimetype": "text/x-python",
   "name": "python",
   "nbconvert_exporter": "python",
   "pygments_lexer": "ipython3",
   "version": "3.8.5"
  }
 },
 "nbformat": 4,
 "nbformat_minor": 4
}
