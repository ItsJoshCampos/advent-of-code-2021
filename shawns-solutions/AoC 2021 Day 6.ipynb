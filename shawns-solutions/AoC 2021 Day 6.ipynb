{
 "cells": [
  {
   "cell_type": "code",
   "execution_count": 1,
   "metadata": {},
   "outputs": [],
   "source": [
    "# pip install advent-of-code-data\n",
    "from aocd.models import Puzzle"
   ]
  },
  {
   "cell_type": "code",
   "execution_count": 2,
   "metadata": {},
   "outputs": [
    {
     "name": "stdout",
     "output_type": "stream",
     "text": [
      "env: AOC_SESSION=53616c7465645f5f4ff17f2821cf0c44fe5f6017dd7b6e3a41a89b06d6abd32d765a897e39270e23ae10fa5fcea8e8a0\n"
     ]
    }
   ],
   "source": [
    "# You need to set your session ID in either an environment variable or file\n",
    "# before you can download your personalized data with advent-of-code-data\n",
    "# HELPFUL LINK: https://realpython.com/python-advent-of-code/\n",
    "\n",
    "%env AOC_SESSION=53616c7465645f5f4ff17f2821cf0c44fe5f6017dd7b6e3a41a89b06d6abd32d765a897e39270e23ae10fa5fcea8e8a0"
   ]
  },
  {
   "cell_type": "code",
   "execution_count": 4,
   "metadata": {},
   "outputs": [
    {
     "data": {
      "text/plain": [
       "'5,1,2,1,5,3,1,1,1,1,1,2,5,4,1,1,1,1,2,1,2,1,1,1,1,1,2,1,5,1,1,1,3,1,1,1,3,1,1,3,1,1,4,3,1,1,4,1,1,1,1,2,1,1,1,5,1,1,5,1,1,1,4,4,2,5,1,1,5,1,1,2,2,1,2,1,1,5,3,1,2,1,1,3,1,4,3,3,1,1,3,1,5,1,1,3,1,1,4,4,1,1,1,5,1,1,1,4,4,1,3,1,4,1,1,4,5,1,1,1,4,3,1,4,1,1,4,4,3,5,1,2,2,1,2,2,1,1,1,2,1,1,1,4,1,1,3,1,1,2,1,4,1,1,1,1,1,1,1,1,2,2,1,1,5,5,1,1,1,5,1,1,1,1,5,1,3,2,1,1,5,2,3,1,2,2,2,5,1,1,3,1,1,1,5,1,4,1,1,1,3,2,1,3,3,1,3,1,1,1,1,1,1,1,2,3,1,5,1,4,1,3,5,1,1,1,2,2,1,1,1,1,5,4,1,1,3,1,2,4,2,1,1,3,5,1,1,1,3,1,1,1,5,1,1,1,1,1,3,1,1,1,4,1,1,1,1,2,2,1,1,1,1,5,3,1,2,3,4,1,1,5,1,2,4,2,1,1,1,2,1,1,1,1,1,1,1,4,1,5'"
      ]
     },
     "execution_count": 4,
     "metadata": {},
     "output_type": "execute_result"
    }
   ],
   "source": [
    "# get personalized input data\n",
    "puzzle = Puzzle(year=2021, day=6)\n",
    "puzzle.input_data[:4000]"
   ]
  },
  {
   "cell_type": "code",
   "execution_count": 5,
   "metadata": {},
   "outputs": [],
   "source": [
    "inp = [int(ele) for ele in puzzle.input_data.split(',')]"
   ]
  },
  {
   "cell_type": "code",
   "execution_count": 6,
   "metadata": {},
   "outputs": [
    {
     "data": {
      "text/plain": [
       "[5, 1, 2, 1, 5]"
      ]
     },
     "execution_count": 6,
     "metadata": {},
     "output_type": "execute_result"
    }
   ],
   "source": [
    "inp[:5]"
   ]
  },
  {
   "cell_type": "code",
   "execution_count": 30,
   "metadata": {},
   "outputs": [
    {
     "data": {
      "text/plain": [
       "{0: 0, 1: 180, 2: 36, 3: 30, 4: 26, 5: 28, 6: 0, 7: 0, 8: 0}"
      ]
     },
     "execution_count": 30,
     "metadata": {},
     "output_type": "execute_result"
    }
   ],
   "source": [
    "initial_counts = {0: 0, 1: 0, 2: 0, 3: 0, 4: 0, 5: 0 , 6: 0, 7: 0, 8: 0}\n",
    "\n",
    "for i in inp:\n",
    "    initial_counts[i] += 1\n",
    "initial_counts"
   ]
  },
  {
   "cell_type": "code",
   "execution_count": null,
   "metadata": {},
   "outputs": [],
   "source": []
  },
  {
   "cell_type": "code",
   "execution_count": 26,
   "metadata": {},
   "outputs": [
    {
     "data": {
      "text/plain": [
       "383160"
      ]
     },
     "execution_count": 26,
     "metadata": {},
     "output_type": "execute_result"
    }
   ],
   "source": [
    "def solution_day_6a(counts, count=0):\n",
    "    \n",
    "    if count == 80:\n",
    "        return sum([val for val in counts.values()])\n",
    "    else:\n",
    "        _counts = {0: 0, 1: 0, 2: 0, 3: 0, 4: 0, 5: 0 , 6: 0, 7: 0, 8: 0}\n",
    "        _counts[8] = counts[0]\n",
    "        _counts[7] = counts[8]\n",
    "        _counts[6] = counts[7] + counts[0]\n",
    "        _counts[5] = counts[6] \n",
    "        _counts[4] = counts[5]\n",
    "        _counts[3] = counts[4]\n",
    "        _counts[2] = counts[3]\n",
    "        _counts[1] = counts[2]\n",
    "        _counts[0] = counts[1]\n",
    "        \n",
    "        return solution_day_6a(_counts, count+1)\n",
    "\n",
    "solution_day_6a(initial_counts, count=0)  "
   ]
  },
  {
   "cell_type": "code",
   "execution_count": null,
   "metadata": {},
   "outputs": [],
   "source": []
  },
  {
   "cell_type": "code",
   "execution_count": 32,
   "metadata": {},
   "outputs": [
    {
     "data": {
      "text/plain": [
       "1721148811504"
      ]
     },
     "execution_count": 32,
     "metadata": {},
     "output_type": "execute_result"
    }
   ],
   "source": [
    "def solution_day_6b(counts, count=0):\n",
    "    \n",
    "    if count == 256:\n",
    "        return sum([val for val in counts.values()])\n",
    "    else:\n",
    "        _counts = {0: 0, 1: 0, 2: 0, 3: 0, 4: 0, 5: 0 , 6: 0, 7: 0, 8: 0}\n",
    "        _counts[8] = counts[0]\n",
    "        _counts[7] = counts[8]\n",
    "        _counts[6] = counts[7] + counts[0]\n",
    "        _counts[5] = counts[6] \n",
    "        _counts[4] = counts[5]\n",
    "        _counts[3] = counts[4]\n",
    "        _counts[2] = counts[3]\n",
    "        _counts[1] = counts[2]\n",
    "        _counts[0] = counts[1]\n",
    "        \n",
    "        return solution_day_6b(_counts, count+1)\n",
    "\n",
    "solution_day_6b(initial_counts, 0)  "
   ]
  },
  {
   "cell_type": "code",
   "execution_count": null,
   "metadata": {},
   "outputs": [],
   "source": []
  }
 ],
 "metadata": {
  "kernelspec": {
   "display_name": "Python 3",
   "language": "python",
   "name": "python3"
  },
  "language_info": {
   "codemirror_mode": {
    "name": "ipython",
    "version": 3
   },
   "file_extension": ".py",
   "mimetype": "text/x-python",
   "name": "python",
   "nbconvert_exporter": "python",
   "pygments_lexer": "ipython3",
   "version": "3.8.5"
  }
 },
 "nbformat": 4,
 "nbformat_minor": 4
}
